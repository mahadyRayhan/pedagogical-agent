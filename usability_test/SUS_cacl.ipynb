{
 "cells": [
  {
   "cell_type": "code",
   "execution_count": 2,
   "metadata": {},
   "outputs": [],
   "source": [
    "import pandas as pd\n",
    "import numpy as np\n",
    "import matplotlib.pyplot as plt"
   ]
  },
  {
   "cell_type": "code",
   "execution_count": 3,
   "metadata": {},
   "outputs": [
    {
     "data": {
      "text/html": [
       "<div>\n",
       "<style scoped>\n",
       "    .dataframe tbody tr th:only-of-type {\n",
       "        vertical-align: middle;\n",
       "    }\n",
       "\n",
       "    .dataframe tbody tr th {\n",
       "        vertical-align: top;\n",
       "    }\n",
       "\n",
       "    .dataframe thead th {\n",
       "        text-align: right;\n",
       "    }\n",
       "</style>\n",
       "<table border=\"1\" class=\"dataframe\">\n",
       "  <thead>\n",
       "    <tr style=\"text-align: right;\">\n",
       "      <th></th>\n",
       "      <th>Participants</th>\n",
       "      <th>Timestamp</th>\n",
       "      <th>1. I think that I would like to use this system frequently</th>\n",
       "      <th>2. I found the system unnecessarily complex</th>\n",
       "      <th>3. I thought the system was easy to use.</th>\n",
       "      <th>4. I think that I would need the support of a technical person to be able to use this  system.</th>\n",
       "      <th>5. I found the various functions in this system were well integrated.</th>\n",
       "      <th>6. I thought there was too much inconsistency in this system.</th>\n",
       "      <th>7. I would imagine that most people would learn to use this system very quickly.</th>\n",
       "      <th>8. I found the system very awkward to use.</th>\n",
       "      <th>9. I felt very confident using the system.</th>\n",
       "      <th>10. I needed to learn a lot of things before I could get going with this system.</th>\n",
       "    </tr>\n",
       "  </thead>\n",
       "  <tbody>\n",
       "    <tr>\n",
       "      <th>0</th>\n",
       "      <td>Chele</td>\n",
       "      <td>3/11/2025 15:34:28</td>\n",
       "      <td>3</td>\n",
       "      <td>2</td>\n",
       "      <td>4</td>\n",
       "      <td>4</td>\n",
       "      <td>3</td>\n",
       "      <td>2</td>\n",
       "      <td>4</td>\n",
       "      <td>4</td>\n",
       "      <td>3</td>\n",
       "      <td>4</td>\n",
       "    </tr>\n",
       "    <tr>\n",
       "      <th>1</th>\n",
       "      <td>Johnny</td>\n",
       "      <td>3/12/2025 14:45:09</td>\n",
       "      <td>3</td>\n",
       "      <td>3</td>\n",
       "      <td>4</td>\n",
       "      <td>1</td>\n",
       "      <td>4</td>\n",
       "      <td>3</td>\n",
       "      <td>4</td>\n",
       "      <td>2</td>\n",
       "      <td>4</td>\n",
       "      <td>2</td>\n",
       "    </tr>\n",
       "    <tr>\n",
       "      <th>2</th>\n",
       "      <td>Eunice</td>\n",
       "      <td>3/18/2025 16:10:02</td>\n",
       "      <td>5</td>\n",
       "      <td>4</td>\n",
       "      <td>4</td>\n",
       "      <td>1</td>\n",
       "      <td>4</td>\n",
       "      <td>4</td>\n",
       "      <td>3</td>\n",
       "      <td>1</td>\n",
       "      <td>5</td>\n",
       "      <td>4</td>\n",
       "    </tr>\n",
       "  </tbody>\n",
       "</table>\n",
       "</div>"
      ],
      "text/plain": [
       "  Participants           Timestamp  \\\n",
       "0        Chele  3/11/2025 15:34:28   \n",
       "1       Johnny  3/12/2025 14:45:09   \n",
       "2       Eunice  3/18/2025 16:10:02   \n",
       "\n",
       "   1. I think that I would like to use this system frequently  \\\n",
       "0                                                  3            \n",
       "1                                                  3            \n",
       "2                                                  5            \n",
       "\n",
       "    2. I found the system unnecessarily complex  \\\n",
       "0                                             2   \n",
       "1                                             3   \n",
       "2                                             4   \n",
       "\n",
       "   3. I thought the system was easy to use.  \\\n",
       "0                                         4   \n",
       "1                                         4   \n",
       "2                                         4   \n",
       "\n",
       "   4. I think that I would need the support of a technical person to be able to use this  system.  \\\n",
       "0                                                  4                                                \n",
       "1                                                  1                                                \n",
       "2                                                  1                                                \n",
       "\n",
       "   5. I found the various functions in this system were well integrated.  \\\n",
       "0                                                  3                       \n",
       "1                                                  4                       \n",
       "2                                                  4                       \n",
       "\n",
       "   6. I thought there was too much inconsistency in this system.  \\\n",
       "0                                                  2               \n",
       "1                                                  3               \n",
       "2                                                  4               \n",
       "\n",
       "   7. I would imagine that most people would learn to use this system very quickly.  \\\n",
       "0                                                  4                                  \n",
       "1                                                  4                                  \n",
       "2                                                  3                                  \n",
       "\n",
       "   8. I found the system very awkward to use.  \\\n",
       "0                                           4   \n",
       "1                                           2   \n",
       "2                                           1   \n",
       "\n",
       "   9. I felt very confident using the system.  \\\n",
       "0                                           3   \n",
       "1                                           4   \n",
       "2                                           5   \n",
       "\n",
       "   10. I needed to learn a lot of things before I could get going with this system.  \n",
       "0                                                  4                                 \n",
       "1                                                  2                                 \n",
       "2                                                  4                                 "
      ]
     },
     "execution_count": 3,
     "metadata": {},
     "output_type": "execute_result"
    }
   ],
   "source": [
    "data = pd.read_csv('UX_Study_Survey_Responses.csv')\n",
    "data"
   ]
  },
  {
   "cell_type": "code",
   "execution_count": 1,
   "metadata": {},
   "outputs": [],
   "source": [
    "def calculate_sus_score(responses):\n",
    "    \"\"\"\n",
    "    Calculates the System Usability Scale (SUS) score from a list of 10 responses.\n",
    "\n",
    "    Args:\n",
    "        responses: A list of 10 integers, where each integer represents a response\n",
    "                   to a SUS question (ranging from 1 to 5).\n",
    "\n",
    "    Returns:\n",
    "        The calculated SUS score (a float between 0 and 100).\n",
    "\n",
    "    Raises:\n",
    "        ValueError: If the input list does not contain exactly 10 responses, or if\n",
    "                    any response is outside the valid range (1-5).\n",
    "    \"\"\"\n",
    "\n",
    "    if len(responses) != 10:\n",
    "        raise ValueError(\"The responses list must contain exactly 10 values.\")\n",
    "\n",
    "    for response in responses:\n",
    "        if not 1 <= response <= 5:\n",
    "            raise ValueError(\"All responses must be between 1 and 5.\")\n",
    "\n",
    "    adjusted_scores = []\n",
    "    for i, response in enumerate(responses):\n",
    "        if (i + 1) % 2 != 0:  # Odd-numbered questions\n",
    "            adjusted_scores.append(response - 1)\n",
    "        else:  # Even-numbered questions\n",
    "            adjusted_scores.append(5 - response)\n",
    "\n",
    "    total_adjusted_score = sum(adjusted_scores)\n",
    "    sus_score = total_adjusted_score * 2.5\n",
    "    return sus_score"
   ]
  },
  {
   "cell_type": "code",
   "execution_count": 6,
   "metadata": {},
   "outputs": [
    {
     "data": {
      "text/plain": [
       "0     Chele\n",
       "1    Johnny\n",
       "2    Eunice\n",
       "Name: Participants, dtype: object"
      ]
     },
     "execution_count": 6,
     "metadata": {},
     "output_type": "execute_result"
    }
   ],
   "source": [
    "data.Participants"
   ]
  },
  {
   "cell_type": "code",
   "execution_count": 22,
   "metadata": {},
   "outputs": [
    {
     "data": {
      "text/plain": [
       "dict_values([3, 2, 4, 4, 3, 2, 4, 4, 3, 4])"
      ]
     },
     "execution_count": 22,
     "metadata": {},
     "output_type": "execute_result"
    }
   ],
   "source": [
    "participants_info = data.drop(columns=['Timestamp']).set_index('Participants').to_dict(orient='index')\n",
    "participants_info['Chele'].values()"
   ]
  },
  {
   "cell_type": "code",
   "execution_count": 24,
   "metadata": {},
   "outputs": [
    {
     "data": {
      "text/plain": [
       "['Chele', 'Johnny', 'Eunice']"
      ]
     },
     "execution_count": 24,
     "metadata": {},
     "output_type": "execute_result"
    }
   ],
   "source": [
    "participants_list = data.Participants.tolist()\n",
    "participants_list"
   ]
  },
  {
   "cell_type": "code",
   "execution_count": 28,
   "metadata": {},
   "outputs": [
    {
     "name": "stdout",
     "output_type": "stream",
     "text": [
      "Chele responses: dict_values([3, 2, 4, 4, 3, 2, 4, 4, 3, 4])\n",
      "Chele SUS Score: 52.5\n",
      "Johnny responses: dict_values([3, 3, 4, 1, 4, 3, 4, 2, 4, 2])\n",
      "Johnny SUS Score: 70.0\n",
      "Eunice responses: dict_values([5, 4, 4, 1, 4, 4, 3, 1, 5, 4])\n",
      "Eunice SUS Score: 67.5\n"
     ]
    }
   ],
   "source": [
    "for participant in data.Participants.tolist():\n",
    "    responses = participants_info[participant].values()\n",
    "    print(f\"{participant} responses: {responses}\")\n",
    "    try:\n",
    "        sus_score = calculate_sus_score(responses)\n",
    "        print(f\"{participant} SUS Score: {sus_score}\")\n",
    "    except ValueError as e:\n",
    "        print(f\"Error: {e}\")"
   ]
  },
  {
   "cell_type": "code",
   "execution_count": null,
   "metadata": {},
   "outputs": [],
   "source": []
  }
 ],
 "metadata": {
  "kernelspec": {
   "display_name": "agent",
   "language": "python",
   "name": "python3"
  },
  "language_info": {
   "codemirror_mode": {
    "name": "ipython",
    "version": 3
   },
   "file_extension": ".py",
   "mimetype": "text/x-python",
   "name": "python",
   "nbconvert_exporter": "python",
   "pygments_lexer": "ipython3",
   "version": "3.11.10"
  }
 },
 "nbformat": 4,
 "nbformat_minor": 2
}
